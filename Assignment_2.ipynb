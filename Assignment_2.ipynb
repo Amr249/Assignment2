{
  "cells": [
    {
      "cell_type": "markdown",
      "metadata": {
        "id": "Ui8LKXjlii3V"
      },
      "source": [
        "### 1) Write a program to print the maximum between two numbers. (one-line conditional statement)\n"
      ]
    },
    {
      "cell_type": "code",
      "execution_count": null,
      "metadata": {},
      "outputs": [],
      "source": [
        "x = 25\n",
        "y = 30 \n",
        "result = \" x is the maximum \" if x > y else \" y is the maximum \"\n",
        "print(result)"
      ]
    },
    {
      "cell_type": "markdown",
      "metadata": {
        "id": "xQB_yP4rirZS"
      },
      "source": [
        "### 2) Write a program to find the maximum between three numbers.\n"
      ]
    },
    {
      "cell_type": "code",
      "execution_count": null,
      "metadata": {},
      "outputs": [],
      "source": [
        "num1 = 90\n",
        "num2 = 100 \n",
        "num3 = 70\n",
        "\n",
        "if num1 > num2: \n",
        "  if num1 > num3: \n",
        "    print(\"the first number is the maximum\")\n",
        "elif num2 > num3: \n",
        "  print(\"the second number is the maximum\")\n",
        "else: \n",
        "  print(\"the third number is the maximum\")"
      ]
    },
    {
      "cell_type": "markdown",
      "metadata": {
        "id": "di3xEq8mjBRK"
      },
      "source": [
        "### 3) Write a program to check whether a number is negative, or positive (one-line conditional statement)\n"
      ]
    },
    {
      "cell_type": "code",
      "execution_count": null,
      "metadata": {},
      "outputs": [],
      "source": [
        "num = -5\n",
        "result = \"positive\" if num > 0 else \" negative\"\n",
        "print(result)"
      ]
    },
    {
      "cell_type": "markdown",
      "metadata": {
        "id": "grc5Gk_RjFBe"
      },
      "source": [
        "### 4) Write a  program to check whether a number is even or odd  (one-line statement).\n"
      ]
    },
    {
      "cell_type": "code",
      "execution_count": null,
      "metadata": {},
      "outputs": [],
      "source": [
        "num = 8\n",
        "result = \"even number\" if num % 2 == 0 else \" odd number\"\n",
        "print(result)"
      ]
    },
    {
      "cell_type": "markdown",
      "metadata": {
        "id": "-J3UtjpIjJPv"
      },
      "source": [
        "###5) Write a  program to check whether a year is a leap year or not. (one-line conditional statement).\n"
      ]
    },
    {
      "cell_type": "code",
      "execution_count": null,
      "metadata": {},
      "outputs": [],
      "source": [
        "year = input(\"please enter a year to check weather its a leap year or not : \")\n",
        "\n",
        "checkIfLeapYear = \"leap year\" if int(year) % 4 == 0 else \"not a leap year\"\n",
        "\n",
        "print(checkIfLeapYear)"
      ]
    },
    {
      "cell_type": "markdown",
      "metadata": {
        "id": "JeN4yaIMjNlC"
      },
      "source": [
        "###6) Write a  program to store the weekdays in a list and access the week day and print it by index.\n"
      ]
    },
    {
      "cell_type": "code",
      "execution_count": null,
      "metadata": {},
      "outputs": [],
      "source": [
        "weekdays = [\"Saturday\", \"Sunday\", \"Monday\", \"Tuesday\", \"Wednesday\", \"Thursday\", \"Friday\"]\n",
        "\n",
        "index_from_user = input(\"enter and index from 0 to 6 : \")\n",
        "\n",
        "access_weekday_by_index = weekdays[int(index_from_user)]\n",
        "\n",
        "print(f\"the day o index {index_from_user} is {access_weekday_by_index}\")"
      ]
    },
    {
      "cell_type": "markdown",
      "metadata": {
        "id": "ST7uKJmtjYh1"
      },
      "source": [
        "###7) Write a  program to print all alphabets from a to z using while loop"
      ]
    },
    {
      "cell_type": "code",
      "execution_count": null,
      "metadata": {},
      "outputs": [],
      "source": [
        "i = \"A\"\n",
        " \n",
        "print(\"The Alphabets from A to Z are:\")\n",
        "\n",
        "while ord(i) <= ord('Z'):\n",
        "    print(i),\n",
        "    i = chr(ord(i) + 1)"
      ]
    },
    {
      "cell_type": "markdown",
      "metadata": {
        "id": "PkPPTrivjran"
      },
      "source": [
        "###8)Write a program to store numbers in the List and print its reverse"
      ]
    },
    {
      "cell_type": "code",
      "execution_count": null,
      "metadata": {},
      "outputs": [],
      "source": [
        "print(\"please enter numbers to show it reversed \")\n",
        "numbers = input(\"enter the numbers : \")\n",
        "\n",
        "numbers_to_list = list(numbers)\n",
        "numbers_to_list.reverse()\n",
        "\n",
        "for x in numbers_to_list:\n",
        "  print(x)"
      ]
    },
    {
      "cell_type": "markdown",
      "metadata": {
        "id": "2JoHNIaCj7fR"
      },
      "source": [
        "### 9) Write a program to print the multiplcation table of any number"
      ]
    },
    {
      "cell_type": "code",
      "execution_count": null,
      "metadata": {},
      "outputs": [],
      "source": [
        "# multiplication table from 1 to 12\n",
        "\n",
        "x = int(input(\"Enter the number for the multiplication table: \"))\n",
        "\n",
        "for i in range(1, 13):\n",
        "    result = x * i\n",
        "    print(result)"
      ]
    },
    {
      "cell_type": "markdown",
      "metadata": {
        "id": "WTIX9yh1kLs-"
      },
      "source": [
        "###10)Write a program to print all even numbers between 1 to 100.(using while loop)"
      ]
    },
    {
      "cell_type": "code",
      "execution_count": null,
      "metadata": {
        "id": "i5fTGY3Qib9Y"
      },
      "outputs": [],
      "source": [
        "end = 100\n",
        "start = 1\n",
        "while start <= end: \n",
        "  if start % 2 == 0:\n",
        "    even_number = \"is even number\"\n",
        "    print(start, even_number)\n",
        "\n",
        "  start += 1"
      ]
    },
    {
      "cell_type": "markdown",
      "metadata": {},
      "source": [
        "1. Write a Python program to add an item to a tuple."
      ]
    },
    {
      "cell_type": "code",
      "execution_count": null,
      "metadata": {},
      "outputs": [],
      "source": [
        "tuple = (1, 2, 3, 5, 6, 7)\n",
        "convert_to_list = list(tuple)\n",
        "convert_to_list.insert(3, 4)\n",
        "print(convert_to_list)"
      ]
    },
    {
      "cell_type": "markdown",
      "metadata": {},
      "source": [
        "2. Write a Python program to sum all the items in a list."
      ]
    },
    {
      "cell_type": "code",
      "execution_count": null,
      "metadata": {},
      "outputs": [],
      "source": [
        "list = [1, 2, 3, 4, 5, 6, 7, 8, 9]\n",
        "sum = 0\n",
        "\n",
        "for i in range(len(list)):\n",
        "  sum = list[i] + sum\n",
        "  \n",
        "print(sum)"
      ]
    },
    {
      "cell_type": "markdown",
      "metadata": {},
      "source": [
        "3. Write a Python program to multiply all the items in a list."
      ]
    },
    {
      "cell_type": "code",
      "execution_count": null,
      "metadata": {},
      "outputs": [],
      "source": [
        "list = [1, 2, 3, 4, 5, 6, 7, 8, 9]\n",
        "muitiply = 1\n",
        "\n",
        "for i in range(len(list)):\n",
        "  muitiply = list[i] * muitiply\n",
        "  \n",
        "print(muitiply)"
      ]
    },
    {
      "cell_type": "markdown",
      "metadata": {},
      "source": [
        "4. Write a Python program to get the smallest number from a list."
      ]
    },
    {
      "cell_type": "code",
      "execution_count": null,
      "metadata": {},
      "outputs": [],
      "source": [
        "list = [3 ,4, 6, 5, 7, 10, 22, 2, 13]\n",
        "smallest_number = list[0]\n",
        "\n",
        "for i in range(len(list)):\n",
        "  \n",
        "  if list[i] < smallest_number:\n",
        "    smallest_number = list[i]\n",
        "  \n",
        "  i += 1\n",
        "\n",
        "print(f\"smallest number is : {smallest_number}\")"
      ]
    },
    {
      "cell_type": "markdown",
      "metadata": {},
      "source": [
        "5. Write a Python program to get the largest number from a list."
      ]
    },
    {
      "cell_type": "code",
      "execution_count": null,
      "metadata": {},
      "outputs": [],
      "source": [
        "list = [3 ,4, 6, 5, 7, 10, 22, 2, 13]\n",
        "largest_number = list[0]\n",
        "\n",
        "for i in range(len(list)):\n",
        "  \n",
        "  if list[i] > largest_number:\n",
        "    largest_number = list[i]\n",
        "  \n",
        "  i += 1\n",
        "\n",
        "print(f\"smallest number is : {largest_number}\")"
      ]
    },
    {
      "cell_type": "markdown",
      "metadata": {},
      "source": [
        "6. Write a Python program to count the number of strings from a given list of strings."
      ]
    },
    {
      "cell_type": "code",
      "execution_count": null,
      "metadata": {},
      "outputs": [],
      "source": [
        "list = [\"amit\", \"learning\", \"AI\", \"diploma\"]\n",
        "\n",
        "count_of_strings = len(list)\n",
        "print(count_of_strings)"
      ]
    },
    {
      "cell_type": "markdown",
      "metadata": {},
      "source": [
        "7. Write a Python program to clone or copy a list"
      ]
    },
    {
      "cell_type": "code",
      "execution_count": null,
      "metadata": {},
      "outputs": [],
      "source": [
        "list_one = [\"This\", \"is\", \"the\", \"original\", \"list\"]\n",
        "\n",
        "list_two = []\n",
        "\n",
        "for i in range(len(list_one)):\n",
        "  list_two.insert(i, list_one[i]) \n",
        "\n",
        "print(list_two)"
      ]
    },
    {
      "cell_type": "markdown",
      "metadata": {},
      "source": [
        "8. Write a Python program to remove item(s) from a given set"
      ]
    },
    {
      "cell_type": "code",
      "execution_count": null,
      "metadata": {},
      "outputs": [],
      "source": [
        "set_one = {1, 2 ,3, 4}\n",
        "\n",
        "convert_To_List = list(set_one)\n",
        "convert_To_List.remove(1)\n",
        "\n",
        "convert_To_Set = set(convert_To_List)\n",
        "\n",
        "print(convert_To_Set)"
      ]
    },
    {
      "cell_type": "markdown",
      "metadata": {},
      "source": [
        "9. Write a Python program to check if a set is a subset of another set"
      ]
    },
    {
      "cell_type": "code",
      "execution_count": null,
      "metadata": {},
      "outputs": [],
      "source": [
        "set_one = {1, 2 ,3, 4}\n",
        "\n",
        "set_Two = {5, 6 ,3, 7}\n",
        "\n",
        "convert_set_one_to_list = list(set_one)\n",
        "\n",
        "convert_set_two_to_list = list(set_Two)\n",
        "\n",
        "for i in range(len(convert_set_one_to_list)):\n",
        "  for j in  range(len(convert_set_two_to_list)):\n",
        "    if convert_set_one_to_list[i] == convert_set_two_to_list[j]:\n",
        "      print(f\"item {convert_set_one_to_list[i]} is found in both sets \")\n",
        "\n"
      ]
    },
    {
      "cell_type": "markdown",
      "metadata": {},
      "source": [
        "10. Write a Python program to remove all elements from a given set"
      ]
    },
    {
      "cell_type": "code",
      "execution_count": null,
      "metadata": {},
      "outputs": [],
      "source": [
        "set_one = {1, 2 ,3, 4}\n",
        "\n",
        "convert_To_List = list(set_one)\n",
        "\n",
        "del convert_To_List\n",
        "\n",
        "print(convert_To_List)"
      ]
    },
    {
      "cell_type": "markdown",
      "metadata": {},
      "source": [
        "11. Write a Python program to find the maximum and minimum values in a set"
      ]
    },
    {
      "cell_type": "code",
      "execution_count": null,
      "metadata": {},
      "outputs": [],
      "source": [
        "set_one = {10, 25 ,37, 47, 96}\n",
        "\n",
        "convert_set_one_to_list = list(set_one)\n",
        "\n",
        "maximum = 0\n",
        "minimum = 55\n",
        "\n",
        "for i in range(len(convert_set_one_to_list)):\n",
        "  if maximum < convert_set_one_to_list[i]:\n",
        "    maximum = convert_set_one_to_list[i]\n",
        "  \n",
        "for i in range(len(convert_set_one_to_list)):\n",
        "  if minimum > convert_set_one_to_list[i]:\n",
        "    minimum = convert_set_one_to_list[i]\n",
        "\n",
        "print(maximum)\n",
        "print(minimum)"
      ]
    },
    {
      "cell_type": "markdown",
      "metadata": {},
      "source": [
        "12. Write a Python program to find the index of an item in a tuple"
      ]
    },
    {
      "cell_type": "code",
      "execution_count": null,
      "metadata": {},
      "outputs": [],
      "source": [
        "tuple = (1, 2, 3, 4, 5, 6)\n",
        "\n",
        "print(tuple)\n",
        "\n",
        "x = input(\"enter the the number to show the index\")\n",
        "\n",
        "convert_to_list =  list(tuple)\n",
        "index_of_item = convert_to_list.index(int(x))\n",
        "\n",
        "print(f\"the index of {x} is {index_of_item}\")"
      ]
    },
    {
      "cell_type": "markdown",
      "metadata": {},
      "source": [
        "13. Write a Python program to convert a tuple to a dictionary"
      ]
    },
    {
      "cell_type": "code",
      "execution_count": null,
      "metadata": {},
      "outputs": [],
      "source": [
        "Tuple1 = ((1, \"num1\"), (2, \"num2\"), (3, \"num3\"))\n",
        "\n",
        "conver_to_Dictionary = dict((x, y) for x, y in Tuple1)\n",
        "print(\"The result dictionary:\", conver_to_Dictionary)"
      ]
    },
    {
      "cell_type": "markdown",
      "metadata": {},
      "source": [
        "14. Write a Python program to unzip a list of tuples into individual lists"
      ]
    },
    {
      "cell_type": "code",
      "execution_count": null,
      "metadata": {},
      "outputs": [],
      "source": [
        "l = [(1, 2), (3, 4), (8, 9)]\n",
        "\n",
        "result = list(zip(*l))\n",
        "\n",
        "print(result)"
      ]
    },
    {
      "cell_type": "markdown",
      "metadata": {},
      "source": [
        "15. Write a Python program to reverse a tuple"
      ]
    },
    {
      "cell_type": "code",
      "execution_count": null,
      "metadata": {},
      "outputs": [],
      "source": [
        "# not 100% right\n",
        "\n",
        "tuple_one = (1, 2, 3, 4, 5, 6)\n",
        "\n",
        "print(tuple_one)\n",
        "\n",
        "convert_to_list =  list(tuple_one)\n",
        "convert_to_list.reverse()\n",
        "\n",
        "\n",
        "print(convert_to_list)"
      ]
    },
    {
      "cell_type": "markdown",
      "metadata": {},
      "source": [
        "16. Write a Python program to convert a list of tuples into a dictionary"
      ]
    },
    {
      "cell_type": "code",
      "execution_count": null,
      "metadata": {},
      "outputs": [],
      "source": [
        "\n",
        "tuple1 = [(\"x\", 1), (\"x\", 2), (\"x\", 3), (\"y\", 1), (\"y\", 2), (\"z\", 1)]\n",
        "\n",
        "dict1 = {}\n",
        "\n",
        "for a, b in tuple1:\n",
        "    dict1.setdefault(a, []).append(b)\n",
        "\n",
        "print(dict1) "
      ]
    },
    {
      "cell_type": "markdown",
      "metadata": {},
      "source": [
        "17. Write a Python program to replace the last value of tuples in a list"
      ]
    },
    {
      "cell_type": "code",
      "execution_count": null,
      "metadata": {},
      "outputs": [],
      "source": [
        "tuple1 = [(10, 20, 40), (40, 50, 60), (70, 80, 90)]\n",
        "\n",
        "print([t[:-1] + (100,) for t in tuple1]) "
      ]
    },
    {
      "cell_type": "markdown",
      "metadata": {},
      "source": [
        "18. Write a Python program to sort a tuple by its float element"
      ]
    },
    {
      "cell_type": "code",
      "execution_count": null,
      "metadata": {},
      "outputs": [],
      "source": [
        "price = [('item1', '12.20'), ('item2', '15.10'), ('item3', '24.5')]\n",
        "\n",
        "sorted_price = sorted(price, key=lambda x: float(x[1]), reverse=True)\n",
        "\n",
        "print(sorted_price)"
      ]
    }
  ],
  "metadata": {
    "colab": {
      "private_outputs": true,
      "provenance": []
    },
    "kernelspec": {
      "display_name": "Python 3",
      "name": "python3"
    },
    "language_info": {
      "name": "python"
    }
  },
  "nbformat": 4,
  "nbformat_minor": 0
}
